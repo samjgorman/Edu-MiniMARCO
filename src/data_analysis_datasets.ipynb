{
 "cells": [
  {
   "cell_type": "code",
   "execution_count": 34,
   "id": "aa544209",
   "metadata": {},
   "outputs": [
    {
     "ename": "ModuleNotFoundError",
     "evalue": "No module named 'textblob'",
     "output_type": "error",
     "traceback": [
      "\u001b[0;31m---------------------------------------------------------------------------\u001b[0m",
      "\u001b[0;31mModuleNotFoundError\u001b[0m                       Traceback (most recent call last)",
      "\u001b[0;32m<ipython-input-34-c229d5a0a0fe>\u001b[0m in \u001b[0;36m<module>\u001b[0;34m\u001b[0m\n\u001b[1;32m      1\u001b[0m \u001b[0;32mimport\u001b[0m \u001b[0mpandas\u001b[0m \u001b[0;32mas\u001b[0m \u001b[0mpd\u001b[0m\u001b[0;34m\u001b[0m\u001b[0;34m\u001b[0m\u001b[0m\n\u001b[1;32m      2\u001b[0m \u001b[0;32mimport\u001b[0m \u001b[0mstatistics\u001b[0m\u001b[0;34m\u001b[0m\u001b[0;34m\u001b[0m\u001b[0m\n\u001b[0;32m----> 3\u001b[0;31m \u001b[0;32mfrom\u001b[0m \u001b[0mtextblob\u001b[0m \u001b[0;32mimport\u001b[0m \u001b[0mTextBlob\u001b[0m\u001b[0;34m\u001b[0m\u001b[0;34m\u001b[0m\u001b[0m\n\u001b[0m",
      "\u001b[0;31mModuleNotFoundError\u001b[0m: No module named 'textblob'"
     ]
    }
   ],
   "source": [
    "import pandas as pd\n",
    "import statistics\n"
   ]
  },
  {
   "cell_type": "code",
   "execution_count": 29,
   "id": "56e84a6b",
   "metadata": {},
   "outputs": [
    {
     "name": "stdout",
     "output_type": "stream",
     "text": [
      "Collecting lexicalrichness\n",
      "  Downloading lexicalrichness-0.1.3.tar.gz (15 kB)\n",
      "Requirement already satisfied: scipy>=1.0.0 in /home/ec2-user/anaconda3/envs/tensorflow_p36/lib/python3.6/site-packages (from lexicalrichness) (1.5.3)\n",
      "Requirement already satisfied: numpy>=1.14.5 in /home/ec2-user/anaconda3/envs/tensorflow_p36/lib/python3.6/site-packages (from scipy>=1.0.0->lexicalrichness) (1.18.5)\n",
      "Building wheels for collected packages: lexicalrichness\n",
      "  Building wheel for lexicalrichness (setup.py) ... \u001b[?25ldone\n",
      "\u001b[?25h  Created wheel for lexicalrichness: filename=lexicalrichness-0.1.3-py2.py3-none-any.whl size=8741 sha256=40286940f63c6e5bbb1a8dbb7a0c9aecde5081f867ebe096ecbafd0f05ed4d47\n",
      "  Stored in directory: /home/ec2-user/.cache/pip/wheels/a2/87/a1/6de522f6496dcddaa3b745a7757fa87aa5240a435835032d71\n",
      "Successfully built lexicalrichness\n",
      "Installing collected packages: lexicalrichness\n",
      "Successfully installed lexicalrichness-0.1.3\n",
      "\u001b[33mWARNING: You are using pip version 21.1.3; however, version 21.2.4 is available.\n",
      "You should consider upgrading via the '/home/ec2-user/anaconda3/envs/tensorflow_p36/bin/python -m pip install --upgrade pip' command.\u001b[0m\n"
     ]
    }
   ],
   "source": [
    "!pip install lexicalrichness"
   ]
  },
  {
   "cell_type": "code",
   "execution_count": 42,
   "id": "573fbd40",
   "metadata": {},
   "outputs": [
    {
     "name": "stdout",
     "output_type": "stream",
     "text": [
      "Requirement already satisfied: textblob in /home/ec2-user/anaconda3/envs/tensorflow_p36/lib/python3.6/site-packages (0.15.3)\n",
      "Requirement already satisfied: nltk>=3.1 in /home/ec2-user/anaconda3/envs/tensorflow_p36/lib/python3.6/site-packages (from textblob) (3.4.4)\n",
      "Requirement already satisfied: six in /home/ec2-user/anaconda3/envs/tensorflow_p36/lib/python3.6/site-packages (from nltk>=3.1->textblob) (1.15.0)\n",
      "\u001b[33mWARNING: You are using pip version 21.1.3; however, version 21.2.4 is available.\n",
      "You should consider upgrading via the '/home/ec2-user/anaconda3/envs/tensorflow_p36/bin/python -m pip install --upgrade pip' command.\u001b[0m\n",
      "[nltk_data] Downloading package brown to /home/ec2-user/nltk_data...\n",
      "[nltk_data]   Unzipping corpora/brown.zip.\n",
      "[nltk_data] Downloading package punkt to /home/ec2-user/nltk_data...\n",
      "[nltk_data]   Unzipping tokenizers/punkt.zip.\n",
      "[nltk_data] Downloading package wordnet to /home/ec2-user/nltk_data...\n",
      "[nltk_data]   Unzipping corpora/wordnet.zip.\n",
      "[nltk_data] Downloading package averaged_perceptron_tagger to\n",
      "[nltk_data]     /home/ec2-user/nltk_data...\n",
      "[nltk_data]   Unzipping taggers/averaged_perceptron_tagger.zip.\n",
      "[nltk_data] Downloading package conll2000 to\n",
      "[nltk_data]     /home/ec2-user/nltk_data...\n",
      "[nltk_data]   Unzipping corpora/conll2000.zip.\n",
      "[nltk_data] Downloading package movie_reviews to\n",
      "[nltk_data]     /home/ec2-user/nltk_data...\n",
      "[nltk_data]   Unzipping corpora/movie_reviews.zip.\n",
      "Finished.\n"
     ]
    }
   ],
   "source": [
    "!pip install -U textblob\n",
    "!python -m textblob.download_corpora\n"
   ]
  },
  {
   "cell_type": "code",
   "execution_count": 6,
   "id": "86e6aca3",
   "metadata": {},
   "outputs": [],
   "source": [
    "#Here, we import our filtered query set we constructed in our other notebook \n",
    "\n",
    "minimarco_train = pd.read_table('./education_train_queries_withqrels.tsv',header=None)\n",
    "marco_train = pd.read_table('./queries_train_withqrels.tsv',header=None)\n"
   ]
  },
  {
   "cell_type": "code",
   "execution_count": 46,
   "id": "3722e8c8",
   "metadata": {},
   "outputs": [],
   "source": [
    "from lexicalrichness import LexicalRichness\n",
    "from textblob import TextBlob\n",
    "\n",
    "\n",
    "def compute_avg():\n",
    "   \n",
    "    print('do something')\n",
    "\n",
    "def avg_query_len(df):\n",
    "    queryCol = df.iloc[:, 1]\n",
    "    queryLenAvgs = []\n",
    "    for query in queryCol:\n",
    "        q_len = len(query.split())\n",
    "        queryLenAvgs.append(q_len)\n",
    "    avg = sum(queryLenAvgs) / len(queryLenAvgs)\n",
    "    return avg\n",
    "\n",
    "def std_query_len(df):\n",
    "    queryCol = df.iloc[:, 1]\n",
    "    queryLenAvgs = []\n",
    "    for query in queryCol:\n",
    "        q_len = len(query.split())\n",
    "        queryLenAvgs.append(q_len)\n",
    "    avg = statistics.pstdev(queryLenAvgs)\n",
    "    return avg\n",
    "\n",
    "def query_lexical_richness(df):\n",
    "    queryCol = df.iloc[:, 1]\n",
    "    richnessAvg = []\n",
    "    for query in queryCol:\n",
    "        lex = LexicalRichness(query,use_TextBlob=True)\n",
    "        richnessAvg.append(lex.rttr)\n",
    "    avg = sum(richnessAvg) / len(richnessAvg)\n",
    "    return avg\n",
    "        \n",
    "    \n",
    "\n",
    "    "
   ]
  },
  {
   "cell_type": "code",
   "execution_count": 47,
   "id": "cc419abe",
   "metadata": {},
   "outputs": [
    {
     "data": {
      "text/plain": [
       "2.4706870889981447"
      ]
     },
     "execution_count": 47,
     "metadata": {},
     "output_type": "execute_result"
    }
   ],
   "source": [
    "# avg_query_len(minimarco_train)\n",
    "# std_query_len(minimarco_train)\n",
    "query_lexical_richness(minimarco_train)"
   ]
  },
  {
   "cell_type": "code",
   "execution_count": 48,
   "id": "172e2e72",
   "metadata": {},
   "outputs": [
    {
     "data": {
      "text/plain": [
       "2.3696767175817386"
      ]
     },
     "execution_count": 48,
     "metadata": {},
     "output_type": "execute_result"
    }
   ],
   "source": [
    "# avg_query_len(marco_train)\n",
    "std_query_len(marco_train)\n",
    "query_lexical_richness(marco_train)"
   ]
  },
  {
   "cell_type": "code",
   "execution_count": null,
   "id": "2fd0f0a5",
   "metadata": {},
   "outputs": [],
   "source": []
  }
 ],
 "metadata": {
  "kernelspec": {
   "display_name": "conda_tensorflow_p36",
   "language": "python",
   "name": "conda_tensorflow_p36"
  },
  "language_info": {
   "codemirror_mode": {
    "name": "ipython",
    "version": 3
   },
   "file_extension": ".py",
   "mimetype": "text/x-python",
   "name": "python",
   "nbconvert_exporter": "python",
   "pygments_lexer": "ipython3",
   "version": "3.6.13"
  }
 },
 "nbformat": 4,
 "nbformat_minor": 5
}
